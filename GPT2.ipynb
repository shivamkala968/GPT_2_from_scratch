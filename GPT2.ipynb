{
 "cells": [
  {
   "cell_type": "code",
   "execution_count": 15,
   "id": "a55fcda8-0ccc-4d21-99eb-765bddf45d94",
   "metadata": {},
   "outputs": [],
   "source": [
    "from dataclasses import dataclass\n",
    "import torch\n",
    "import torch.nn as nn\n",
    "from torch.nn import functional as F \n",
    "import math\n",
    "import time"
   ]
  },
  {
   "cell_type": "code",
   "execution_count": 16,
   "id": "6c10e57b-fa13-403d-8483-8f52cf87f5a8",
   "metadata": {},
   "outputs": [],
   "source": [
    "@dataclass\n",
    "class GPTConfig:\n",
    "    block_size: int =1024\n",
    "    vocab_size: int =50304\n",
    "    n_layer: int    =12\n",
    "    n_head:  int    =12\n",
    "    n_embd: int     =768"
   ]
  },
  {
   "cell_type": "code",
   "execution_count": 17,
   "id": "8a0e32b6-c301-4dc0-afe8-ef7ea518553f",
   "metadata": {},
   "outputs": [],
   "source": [
    "class CausalSelfAttention(nn.Module):\n",
    "\n",
    "    def __init__(self, config):\n",
    "        super().__init__()\n",
    "        assert config.n_embd % config.n_head == 0\n",
    "        # key, query, value projections for all heads, but in a batch\n",
    "        self.c_attn = nn.Linear(config.n_embd, 3 * config.n_embd)\n",
    "        # output projection\n",
    "        self.c_proj = nn.Linear(config.n_embd, config.n_embd)\n",
    "        # regularization\n",
    "        #self.attn_dropout = nn.Dropout(config.dropout)\n",
    "        #self.resid_dropout = nn.Dropout(config.dropout)\n",
    "        self.n_head = config.n_head\n",
    "        self.n_embd = config.n_embd\n",
    "        #self.dropout = config.dropout\n",
    "        # flash attention make GPU go brrrrr but support is only in PyTorch >= 2.0\n",
    "        \n",
    "     \n",
    "            # causal mask to ensure that attention is only applied to the left in the input sequence\n",
    "        self.register_buffer(\"bias\", torch.tril(torch.ones(config.block_size, config.block_size))\n",
    "                                        .view(1, 1, config.block_size, config.block_size))\n",
    "\n",
    "    def forward(self, x):\n",
    "        B, T, C = x.size() # batch size, sequence length, embedding dimensionality (n_embd)\n",
    "\n",
    "        # calculate query, key, values for all heads in batch and move head forward to be the batch dim\n",
    "        qkv = self.c_attn(x)\n",
    "        q, k, v  = qkv.split(self.n_embd, dim=2)\n",
    "        k = k.view(B, T, self.n_head, C // self.n_head).transpose(1, 2) # (B, nh, T, hs)\n",
    "        q = q.view(B, T, self.n_head, C // self.n_head).transpose(1, 2) # (B, nh, T, hs)\n",
    "        v = v.view(B, T, self.n_head, C // self.n_head).transpose(1, 2) # (B, nh, T, hs)\n",
    "\n",
    "        # causal self-attention; Self-attend: (B, nh, T, hs) x (B, nh, hs, T) -> (B, nh, T, T)\n",
    " \n",
    "             # efficient attention using Flash Attention CUDA kernels\n",
    "        y = torch.nn.functional.scaled_dot_product_attention(q, k, v, is_causal=True)\n",
    "        \n",
    "        y = y.transpose(1, 2).contiguous().view(B, T, C) # re-assemble all head outputs side by side\n",
    "\n",
    "        # output projection\n",
    "        y = self.c_proj(y)\n",
    "        return y\n"
   ]
  },
  {
   "cell_type": "code",
   "execution_count": 18,
   "id": "fd810115-533f-4bf5-a9a7-648146eb6c05",
   "metadata": {},
   "outputs": [],
   "source": [
    "class MLP(nn.Module):\n",
    "    def __init__(self,config):\n",
    "        super().__init__()\n",
    "        self.c_fc = nn.Linear(config.n_embd, 4*config.n_embd)\n",
    "        self.gelu = nn.GELU(approximate = \"tanh\")\n",
    "        self.c_proj = nn.Linear(4*config.n_embd,config.n_embd)\n",
    "        self.c_proj. NANOGPT_SCALE_INIT =1\n",
    "    def forward(self,x):\n",
    "        x = self.c_fc(x)\n",
    "        x = self.gelu(x)\n",
    "        x = self.c_proj(x)\n",
    "        return x\n",
    "        "
   ]
  },
  {
   "cell_type": "code",
   "execution_count": 19,
   "id": "9cb2f311-1c54-48b3-a3ea-d3cc1d1e8ddd",
   "metadata": {},
   "outputs": [],
   "source": [
    "class Block(nn.Module):\n",
    "    def __init__(self,config):\n",
    "        super().__init__()\n",
    "        self.ln_1  = nn.LayerNorm(config.n_embd)\n",
    "        self.attn  = CausalSelfAttention(config)\n",
    "        self.ln_2  = nn.LayerNorm(config.n_embd)\n",
    "        self.mlp   = MLP(config)\n",
    "    def forward(self,x):\n",
    "         x = x + self.attn(self.ln_1(x))\n",
    "         x = x + self.mlp(self.ln_2(x))\n",
    "         return x"
   ]
  },
  {
   "cell_type": "code",
   "execution_count": 20,
   "id": "de18fd1c-e131-4a55-953e-8debaefb670a",
   "metadata": {},
   "outputs": [],
   "source": [
    "class GPT(nn.Module):\n",
    "    def __init__(self,config):\n",
    "        super().__init__()\n",
    "        self.config = config\n",
    "        self.transformer = nn.ModuleDict(dict(\n",
    "            wte = nn.Embedding(config.vocab_size,config.n_embd),\n",
    "            wpe = nn.Embedding(config.block_size,config.n_embd),\n",
    "            h   = nn.ModuleList([Block(config) for _ in range(config.n_layer)]),\n",
    "            ln_f = nn.LayerNorm(config.n_embd),\n",
    "        ))\n",
    "        self.lm_head = nn.Linear(config.n_embd,config.vocab_size,bias= False)\n",
    "        #weight sharing\n",
    "        self.transformer.wte.weight = self.lm_head.weight\n",
    "        self.apply(self._init_weights)\n",
    "    def _init_weights(self, module):\n",
    "        if isinstance(module, nn.Linear):\n",
    "            std = 0.02\n",
    "            if hasattr(module,\"NANOGPT_SCALE_INIT\"):\n",
    "                std *= (2*self.config.n_layer)**-0.5\n",
    "            torch.nn.init.normal_(module.weight, mean=0.0, std=std)\n",
    "            if module.bias is not None:\n",
    "                torch.nn.init.zeros_(module.bias)\n",
    "        elif isinstance(module, nn.Embedding):\n",
    "            torch.nn.init.normal_(module.weight, mean=0.0, std=0.02)\n",
    "    def forward(self, idx, targets=None):\n",
    "        #device = idx.device\n",
    "        B, T = idx.size()\n",
    "        #assert t <= self.config.block_size, f\"Cannot forward sequence of length {t}, block size is only {self.config.block_size}\"\n",
    "        pos = torch.arange(0, T, dtype=torch.long, device=idx.device) # shape (t)\n",
    "\n",
    "        # forward the GPT model itself\n",
    "        tok_emb = self.transformer.wte(idx) # token embeddings of shape (b, t, n_embd)\n",
    "        pos_emb = self.transformer.wpe(pos) # position embeddings of shape (t, n_embd)\n",
    "        x = tok_emb + pos_emb\n",
    "        for block in self.transformer.h:\n",
    "            x = block(x)\n",
    "        x = self.transformer.ln_f(x)\n",
    "        loss = None\n",
    "     \n",
    "       \n",
    "            # inference-time mini-optimization: only forward the lm_head on the very last position\n",
    "        logits = self.lm_head(x) # note: using list [-1] to preserve the time dim\n",
    "        if targets is not None:\n",
    "            loss = F.cross_entropy(logits.view(-1,logits.size(-1)),targets.view(-1))\n",
    "\n",
    "    \n",
    "\n",
    "        return logits,loss\n",
    "    @classmethod\n",
    "    def from_pretrained(cls, model_type, override_args=None):\n",
    "        # assert model_type in {'gpt2', 'gpt2-medium', 'gpt2-large', 'gpt2-xl'}\n",
    "        # override_args = override_args or {} # default to empty dict\n",
    "        # # only dropout can be overridden see more notes below\n",
    "        # assert all(k == 'dropout' for k in override_args)\n",
    "        from transformers import GPT2LMHeadModel\n",
    "        print(\"loading weights from pretrained gpt: %s\" % model_type)\n",
    "\n",
    "        # n_layer, n_head and n_embd are determined from model_type\n",
    "        config_args = {\n",
    "            'gpt2':         dict(n_layer=12, n_head=12, n_embd=768),  # 124M params\n",
    "            'gpt2-medium':  dict(n_layer=24, n_head=16, n_embd=1024), # 350M params\n",
    "            'gpt2-large':   dict(n_layer=36, n_head=20, n_embd=1280), # 774M params\n",
    "            'gpt2-xl':      dict(n_layer=48, n_head=25, n_embd=1600), # 1558M params\n",
    "        }[model_type]\n",
    "        print(\"forcing vocab_size=50257, block_size=1024, bias=True\")\n",
    "        config_args['vocab_size'] = 50257 # always 50257 for GPT model checkpoints\n",
    "        config_args['block_size'] = 1024 # always 1024 for GPT model checkpoints\n",
    "        #config_args['bias'] = True # always True for GPT model checkpoints\n",
    "        # we can override the dropout rate, if desired\n",
    "        # if 'dropout' in override_args:\n",
    "        #     print(f\"overriding dropout rate to {override_args['dropout']}\")\n",
    "        #     config_args['dropout'] = override_args['dropout']\n",
    "        # create a from-scratch initialized minGPT model\n",
    "        config = GPTConfig(**config_args)\n",
    "        model = GPT(config)\n",
    "        sd = model.state_dict()\n",
    "        sd_keys = sd.keys()\n",
    "        sd_keys = [k for k in sd_keys if not k.endswith('.attn.bias')] # discard this mask / buffer, not a param\n",
    "\n",
    "        # init a huggingface/transformers model\n",
    "        model_hf = GPT2LMHeadModel.from_pretrained(model_type)\n",
    "        sd_hf = model_hf.state_dict()\n",
    "\n",
    "        # copy while ensuring all of the parameters are aligned and match in names and shapes\n",
    "        sd_keys_hf = sd_hf.keys()\n",
    "        sd_keys_hf = [k for k in sd_keys_hf if not k.endswith('.attn.masked_bias')] # ignore these, just a buffer\n",
    "        sd_keys_hf = [k for k in sd_keys_hf if not k.endswith('.attn.bias')] # same, just the mask (buffer)\n",
    "        transposed = ['attn.c_attn.weight', 'attn.c_proj.weight', 'mlp.c_fc.weight', 'mlp.c_proj.weight']\n",
    "        # basically the openai checkpoints use a \"Conv1D\" module, but we only want to use a vanilla Linear\n",
    "        # this means that we have to transpose these weights when we import them\n",
    "        print(len(sd_keys_hf),len(sd_keys))\n",
    "      \n",
    "        assert len(sd_keys_hf) == len(sd_keys), f\"mismatched keys: {len(sd_keys_hf)} != {len(sd_keys)}\"\n",
    "        for k in sd_keys_hf:\n",
    "            if any(k.endswith(w) for w in transposed):\n",
    "                # special treatment for the Conv1D weights we need to transpose\n",
    "                #assert sd_hf[k].shape[::-1] == sd[k].shape\n",
    "                with torch.no_grad():\n",
    "                    sd[k].copy_(sd_hf[k].t())\n",
    "            else:\n",
    "                # vanilla copy over the other parameters\n",
    "                #assert sd_hf[k].shape == sd[k].shape\n",
    "                with torch.no_grad():\n",
    "                    sd[k].copy_(sd_hf[k])\n",
    "\n",
    "        return model\n",
    "        \n",
    "device = \"cuda\""
   ]
  },
  {
   "cell_type": "code",
   "execution_count": 21,
   "id": "86c86af6-124e-4c96-b560-808b818b7569",
   "metadata": {},
   "outputs": [],
   "source": [
    "import tiktoken\n",
    "\n",
    "class DataLoaderLite():\n",
    "    def __init__(self,B,T):\n",
    "        self.B = B\n",
    "        self.T = T\n",
    "        enc = tiktoken.get_encoding(\"gpt2\")\n",
    "        with open(\"input.txt\",\"r\") as f:\n",
    "            text = f.read()\n",
    "        tokens = enc.encode(text)\n",
    "        self.tokens =  torch.tensor(tokens)\n",
    "        print(f\"loaded {len(self.tokens)} tokens\")\n",
    "        print(f\" 1 epoch = {len(self.tokens)//(B*T)} batches\")\n",
    "        self.current_position = 0\n",
    "    def next_batch(self):\n",
    "        B,T = self.B,self.T\n",
    "        buf = self.tokens[self.current_position : self.current_position+B*T +1]\n",
    "        #print(self.current_position,self.current_position+B*T +1)\n",
    "        x = buf[:-1].view(B,T)\n",
    "        y = buf[1:].view(B,T)\n",
    "        self.current_position += B*T\n",
    "        if self.current_position + (B*T + 1)>len(self.tokens):\n",
    "            self.current_position = 0\n",
    "        return x,y\n",
    "\n"
   ]
  },
  {
   "cell_type": "code",
   "execution_count": 22,
   "id": "869a9dfa-22e9-4944-8dbb-24fee6614972",
   "metadata": {},
   "outputs": [
    {
     "data": {
      "text/plain": [
       "4.0012428977272725"
      ]
     },
     "execution_count": 22,
     "metadata": {},
     "output_type": "execute_result"
    }
   ],
   "source": [
    "338025/(2640*32)"
   ]
  },
  {
   "cell_type": "code",
   "execution_count": 23,
   "id": "f56089e3-12e2-40df-bf51-b308bb091e1b",
   "metadata": {},
   "outputs": [
    {
     "name": "stdout",
     "output_type": "stream",
     "text": [
      "loaded 338025 tokens\n",
      " 1 epoch = 82 batches\n"
     ]
    }
   ],
   "source": [
    "train_loader = DataLoaderLite(B=4,T=1024)"
   ]
  },
  {
   "cell_type": "code",
   "execution_count": 24,
   "id": "f6a1c4e1-35a9-478d-8b60-5adb29cd3863",
   "metadata": {},
   "outputs": [],
   "source": [
    "# model = GPT(GPTConfig)\n",
    "torch.set_float32_matmul_precision(\"high\")\n",
    "model = GPT(GPTConfig)"
   ]
  },
  {
   "cell_type": "code",
   "execution_count": 25,
   "id": "d611592d-630b-4227-9ed2-ef85a66fbc62",
   "metadata": {},
   "outputs": [
    {
     "data": {
      "text/plain": [
       "GPT(\n",
       "  (transformer): ModuleDict(\n",
       "    (wte): Embedding(50304, 768)\n",
       "    (wpe): Embedding(1024, 768)\n",
       "    (h): ModuleList(\n",
       "      (0-11): 12 x Block(\n",
       "        (ln_1): LayerNorm((768,), eps=1e-05, elementwise_affine=True)\n",
       "        (attn): CausalSelfAttention(\n",
       "          (c_attn): Linear(in_features=768, out_features=2304, bias=True)\n",
       "          (c_proj): Linear(in_features=768, out_features=768, bias=True)\n",
       "        )\n",
       "        (ln_2): LayerNorm((768,), eps=1e-05, elementwise_affine=True)\n",
       "        (mlp): MLP(\n",
       "          (c_fc): Linear(in_features=768, out_features=3072, bias=True)\n",
       "          (gelu): GELU(approximate='tanh')\n",
       "          (c_proj): Linear(in_features=3072, out_features=768, bias=True)\n",
       "        )\n",
       "      )\n",
       "    )\n",
       "    (ln_f): LayerNorm((768,), eps=1e-05, elementwise_affine=True)\n",
       "  )\n",
       "  (lm_head): Linear(in_features=768, out_features=50304, bias=False)\n",
       ")"
      ]
     },
     "execution_count": 25,
     "metadata": {},
     "output_type": "execute_result"
    }
   ],
   "source": [
    "\n",
    "model.to(device)\n",
    "#model = torch.compile(model)\n"
   ]
  },
  {
   "cell_type": "code",
   "execution_count": 26,
   "id": "dbffb74d-3a87-4cea-8942-97ca8334a6f7",
   "metadata": {},
   "outputs": [],
   "source": [
    "#logits , loss = model(x,y)\n",
    "optimizer = torch.optim.AdamW(model.parameters(),lr=3e-4)\n",
    "\n"
   ]
  },
  {
   "cell_type": "code",
   "execution_count": 27,
   "id": "31c5a826-a136-47c2-a328-9bdb46a6d235",
   "metadata": {},
   "outputs": [],
   "source": [
    "import time"
   ]
  },
  {
   "cell_type": "code",
   "execution_count": 28,
   "id": "e40ac99f-d169-4ecb-a89e-fe26e2aa4461",
   "metadata": {},
   "outputs": [
    {
     "name": "stdout",
     "output_type": "stream",
     "text": [
      "step [i] ,loss:10.910934448242188, dt : 502.24 ms , tok/sec :8155.41\n",
      "step [i] ,loss:9.72317886352539, dt : 532.88 ms , tok/sec :7686.50\n",
      "step [i] ,loss:9.504365921020508, dt : 440.21 ms , tok/sec :9304.70\n",
      "step [i] ,loss:8.964580535888672, dt : 438.67 ms , tok/sec :9337.39\n",
      "step [i] ,loss:8.804107666015625, dt : 439.14 ms , tok/sec :9327.22\n",
      "step [i] ,loss:8.464309692382812, dt : 440.84 ms , tok/sec :9291.38\n",
      "step [i] ,loss:8.237056732177734, dt : 441.20 ms , tok/sec :9283.85\n",
      "step [i] ,loss:7.9466705322265625, dt : 442.74 ms , tok/sec :9251.39\n",
      "step [i] ,loss:7.808586120605469, dt : 441.15 ms , tok/sec :9284.76\n",
      "step [i] ,loss:7.554592132568359, dt : 439.95 ms , tok/sec :9310.09\n",
      "step [i] ,loss:7.5595550537109375, dt : 440.29 ms , tok/sec :9302.86\n",
      "step [i] ,loss:7.567497253417969, dt : 441.71 ms , tok/sec :9273.07\n",
      "step [i] ,loss:7.602851867675781, dt : 441.12 ms , tok/sec :9285.37\n",
      "step [i] ,loss:7.487571716308594, dt : 439.59 ms , tok/sec :9317.84\n",
      "step [i] ,loss:7.145847320556641, dt : 439.21 ms , tok/sec :9325.94\n",
      "step [i] ,loss:7.117572784423828, dt : 438.38 ms , tok/sec :9343.43\n",
      "step [i] ,loss:6.948883056640625, dt : 439.75 ms , tok/sec :9314.41\n",
      "step [i] ,loss:6.802223205566406, dt : 438.51 ms , tok/sec :9340.72\n",
      "step [i] ,loss:6.9119873046875, dt : 437.03 ms , tok/sec :9372.38\n",
      "step [i] ,loss:6.932765960693359, dt : 437.48 ms , tok/sec :9362.72\n",
      "step [i] ,loss:7.086181640625, dt : 439.77 ms , tok/sec :9313.92\n",
      "step [i] ,loss:6.937236785888672, dt : 439.14 ms , tok/sec :9327.35\n",
      "step [i] ,loss:6.8714752197265625, dt : 437.09 ms , tok/sec :9371.14\n",
      "step [i] ,loss:6.950817108154297, dt : 438.65 ms , tok/sec :9337.64\n",
      "step [i] ,loss:6.973056793212891, dt : 438.22 ms , tok/sec :9347.00\n",
      "step [i] ,loss:6.970645904541016, dt : 439.61 ms , tok/sec :9317.29\n",
      "step [i] ,loss:6.804250717163086, dt : 437.67 ms , tok/sec :9358.69\n",
      "step [i] ,loss:6.863241195678711, dt : 438.37 ms , tok/sec :9343.81\n",
      "step [i] ,loss:6.872575759887695, dt : 438.59 ms , tok/sec :9339.02\n",
      "step [i] ,loss:6.727161407470703, dt : 437.39 ms , tok/sec :9364.66\n",
      "step [i] ,loss:6.700519561767578, dt : 440.26 ms , tok/sec :9303.67\n",
      "step [i] ,loss:6.639747619628906, dt : 439.33 ms , tok/sec :9323.25\n",
      "step [i] ,loss:6.727973937988281, dt : 440.04 ms , tok/sec :9308.28\n",
      "step [i] ,loss:6.794567108154297, dt : 438.22 ms , tok/sec :9346.99\n",
      "step [i] ,loss:6.790668487548828, dt : 439.12 ms , tok/sec :9327.70\n",
      "step [i] ,loss:6.794658660888672, dt : 439.53 ms , tok/sec :9319.03\n",
      "step [i] ,loss:6.588367462158203, dt : 440.39 ms , tok/sec :9300.94\n",
      "step [i] ,loss:6.7530364990234375, dt : 439.97 ms , tok/sec :9309.77\n",
      "step [i] ,loss:6.607463836669922, dt : 438.28 ms , tok/sec :9345.57\n",
      "step [i] ,loss:6.4773712158203125, dt : 440.38 ms , tok/sec :9301.01\n",
      "step [i] ,loss:6.590538024902344, dt : 439.40 ms , tok/sec :9321.88\n",
      "step [i] ,loss:6.690704345703125, dt : 441.41 ms , tok/sec :9279.46\n",
      "step [i] ,loss:6.543071746826172, dt : 441.33 ms , tok/sec :9281.02\n",
      "step [i] ,loss:6.5233154296875, dt : 440.12 ms , tok/sec :9306.58\n",
      "step [i] ,loss:6.668128967285156, dt : 439.78 ms , tok/sec :9313.73\n",
      "step [i] ,loss:6.599845886230469, dt : 442.35 ms , tok/sec :9259.66\n",
      "step [i] ,loss:6.4783477783203125, dt : 446.34 ms , tok/sec :9176.86\n",
      "step [i] ,loss:6.5093536376953125, dt : 444.21 ms , tok/sec :9220.96\n",
      "step [i] ,loss:6.508148193359375, dt : 442.50 ms , tok/sec :9256.51\n",
      "step [i] ,loss:6.440940856933594, dt : 443.13 ms , tok/sec :9243.35\n"
     ]
    }
   ],
   "source": [
    "for i in range(50):\n",
    "    t0 = time.time()\n",
    "    x,y = train_loader.next_batch()\n",
    "    x,y = x.to(device),y.to(device)\n",
    "    optimizer.zero_grad()\n",
    "    with torch.autocast(device_type=device,dtype=torch.bfloat16):\n",
    "         \n",
    "            logits,loss = model(x,y)\n",
    "    loss.backward()\n",
    "    optimizer.step()\n",
    "    torch.cuda.synchronize()\n",
    "    t1 = time.time()\n",
    "    dt = (t1-t0)*1000\n",
    "    tokens_per_second = (train_loader.B*train_loader.T)/(t1-t0)\n",
    "    print(f\"step [i] ,loss:{loss.item()}, dt : {dt:.2f} ms , tok/sec :{tokens_per_second :.2f}\")"
   ]
  },
  {
   "cell_type": "code",
   "execution_count": 29,
   "id": "e6c0fdda-d600-475a-97c9-23b7630268b7",
   "metadata": {},
   "outputs": [
    {
     "name": "stdout",
     "output_type": "stream",
     "text": [
      "tensor(6.4409, device='cuda:0', grad_fn=<NllLossBackward0>)\n"
     ]
    }
   ],
   "source": [
    "print(loss)"
   ]
  },
  {
   "cell_type": "code",
   "execution_count": null,
   "id": "cffa0aca-09c1-42f4-af2d-38521b5c82d6",
   "metadata": {},
   "outputs": [],
   "source": []
  },
  {
   "cell_type": "code",
   "execution_count": 16,
   "id": "94de3ba0-a42c-4309-8a09-4b64228225f9",
   "metadata": {},
   "outputs": [],
   "source": [
    "num_return_sequences = 5\n",
    "max_length = 30"
   ]
  },
  {
   "cell_type": "code",
   "execution_count": 17,
   "id": "ff551e45-72ee-4745-afcd-8050e3e051e4",
   "metadata": {},
   "outputs": [
    {
     "name": "stdout",
     "output_type": "stream",
     "text": [
      "torch.Size([8])\n",
      "5\n"
     ]
    }
   ],
   "source": [
    "import tiktoken\n",
    "enc = tiktoken.get_encoding(\"gpt2\")\n",
    "tokens = enc.encode(\"Hello, I'm a language model,\")\n",
    "tokens = torch.tensor(tokens,dtype  = torch.long)\n",
    "print(tokens.shape)\n",
    "print(num_return_sequences)\n",
    "tokens = tokens.unsqueeze(0).repeat(num_return_sequences,1)\n",
    "x = tokens.to(\"cuda\")"
   ]
  },
  {
   "cell_type": "code",
   "execution_count": 18,
   "id": "fd57d989-e229-4026-9d06-faf9859afffe",
   "metadata": {},
   "outputs": [],
   "source": [
    "\n",
    "torch.manual_seed(42)\n",
    "torch.cuda.manual_seed(42)"
   ]
  },
  {
   "cell_type": "code",
   "execution_count": 19,
   "id": "b22ef201-a40b-439e-bca1-44a752659ebf",
   "metadata": {},
   "outputs": [],
   "source": [
    "import math"
   ]
  },
  {
   "cell_type": "code",
   "execution_count": 24,
   "id": "ff9dbd2e-30df-4831-b14f-071cd99b5bf3",
   "metadata": {},
   "outputs": [],
   "source": [
    "\n",
    "while x.size(1)<max_length:            # if the sequence context is growing too long we must crop it at block_size\n",
    "    #idx_cond = idx if idx.size(1) <= self.config.block_size else idx[:, -self.config.block_size:]\n",
    "    # forward the model to get the logits for the index in the sequence\n",
    "    with torch.no_grad():\n",
    "        logits =  model(x)\n",
    "        # pluck the logits at the final step and scale by desired temperature\n",
    "   \n",
    "        logits = logits[:, -1, :] \n",
    "        # optionally crop the logits to only the top k options\n",
    "        probs = F.softmax(logits, dim=-1)\n",
    "        topk_probs,topk_indices = torch.topk(probs, 50,dim=-1)\n",
    "        #print(topk_probs)\n",
    "        # apply softmax to convert logits to (normalized) probabilities\n",
    "       \n",
    "        # sample from the distribution\n",
    "        ix = torch.multinomial(topk_probs,1)\n",
    "        # append sampled index to the running sequence and continue\n",
    "        xcol = torch.gather(topk_indices,-1,ix)\n",
    "        x = torch.cat((x, xcol), dim=1)\n",
    "    \n",
    "       "
   ]
  },
  {
   "cell_type": "code",
   "execution_count": 25,
   "id": "93462c49-1b20-4516-9e45-a1331a80420f",
   "metadata": {},
   "outputs": [
    {
     "name": "stdout",
     "output_type": "stream",
     "text": [
      "tensor([15496,    11,   314,  1101,   257,  3303,  2746,    11,   407,   257,\n",
      "         1430,    13,   198,   198,  2396,   428,  3329,   314,  2067, 11065,\n",
      "          329,   262,  2720,   287,   262,  2248,    13,   770,   373,   407],\n",
      "       device='cuda:0')\n",
      "> Hello, I'm a language model, not a program.\n",
      "\n",
      "So this morning I started studying for the interview in the lab. This was not\n",
      "tensor([15496,    11,   314,  1101,   257,  3303,  2746,    11,   290,   530,\n",
      "          286,   262,  1388,  1243,   326, 46293,   502,   618,   484,  2251,\n",
      "         8950,   318,   703,  2562,   340,  4329,   284,  2251,  1223,   326],\n",
      "       device='cuda:0')\n",
      "> Hello, I'm a language model, and one of the main things that bothers me when they create languages is how easy it becomes to create something that\n",
      "tensor([15496,    11,   314,  1101,   257,  3303,  2746,    11,   290,   314,\n",
      "         2630,   340,   572,   319,   262,  9384,   326,   257,  3303,  2746,\n",
      "          561,   787,   502,   517, 43472,    13,   887,   314,  1101,   407],\n",
      "       device='cuda:0')\n",
      "> Hello, I'm a language model, and I wrote it off on the grounds that a language model would make me more fluent. But I'm not\n",
      "tensor([15496,    11,   314,  1101,   257,  3303,  2746,    11,   314,  1107,\n",
      "          588,  8950,    13,   314,   588,  8950,   780,   588,    11,   484,\n",
      "          821,   922,    13,   843,   262,   835,   356,  1561,   546,  8950],\n",
      "       device='cuda:0')\n",
      "> Hello, I'm a language model, I really like languages. I like languages because like, they're good. And the way we talk about languages\n",
      "tensor([15496,    11,   314,  1101,   257,  3303,  2746,    11,   257,  3303,\n",
      "         2746,   314,  1101,  1262,   329,  1366, 38591,    13,  1439,   314,\n",
      "          750,   373,  1332,   262,  2482,   290,   788,   314,  2630,   617],\n",
      "       device='cuda:0')\n",
      "> Hello, I'm a language model, a language model I'm using for data modelling. All I did was test the results and then I wrote some\n"
     ]
    }
   ],
   "source": [
    "for i in range(num_return_sequences):\n",
    "    \n",
    "    print(x[i,:max_length])\n",
    "    tokens = list(x[i,:max_length])\n",
    "    decoded = enc.decode(tokens)\n",
    "    print(\">\",decoded)"
   ]
  },
  {
   "cell_type": "code",
   "execution_count": null,
   "id": "88949646-5c60-4af9-bae5-a6080b18110b",
   "metadata": {},
   "outputs": [],
   "source": []
  },
  {
   "cell_type": "code",
   "execution_count": null,
   "id": "2e1a357e-d0f1-41bb-88f2-0833dea77f51",
   "metadata": {},
   "outputs": [],
   "source": []
  }
 ],
 "metadata": {
  "kernelspec": {
   "display_name": "Python 3 (ipykernel)",
   "language": "python",
   "name": "python3"
  },
  "language_info": {
   "codemirror_mode": {
    "name": "ipython",
    "version": 3
   },
   "file_extension": ".py",
   "mimetype": "text/x-python",
   "name": "python",
   "nbconvert_exporter": "python",
   "pygments_lexer": "ipython3",
   "version": "3.9.19"
  }
 },
 "nbformat": 4,
 "nbformat_minor": 5
}
